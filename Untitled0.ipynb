{
  "nbformat": 4,
  "nbformat_minor": 0,
  "metadata": {
    "colab": {
      "provenance": [],
      "authorship_tag": "ABX9TyNxEGYH02lumdirq8cy4pZZ",
      "include_colab_link": true
    },
    "kernelspec": {
      "name": "python3",
      "display_name": "Python 3"
    },
    "language_info": {
      "name": "python"
    }
  },
  "cells": [
    {
      "cell_type": "markdown",
      "metadata": {
        "id": "view-in-github",
        "colab_type": "text"
      },
      "source": [
        "<a href=\"https://colab.research.google.com/github/MaikDhaniol/ProjetoImersao/blob/main/Untitled0.ipynb\" target=\"_parent\"><img src=\"https://colab.research.google.com/assets/colab-badge.svg\" alt=\"Open In Colab\"/></a>"
      ]
    },
    {
      "cell_type": "code",
      "execution_count": 1,
      "metadata": {
        "id": "OBQ4YGqeEPCx"
      },
      "outputs": [],
      "source": [
        "!pip install -q -U google-generativeai"
      ]
    },
    {
      "cell_type": "code",
      "source": [
        "# Import the Python SDK\n",
        "import google.generativeai as genai\n",
        "from google.colab import userdata\n",
        "api_key = userdata.get('SECRET_KEY')\n",
        "genai.configure(api_key=api_key)\n"
      ],
      "metadata": {
        "id": "dVgZG7QLEogO"
      },
      "execution_count": 3,
      "outputs": []
    },
    {
      "cell_type": "markdown",
      "source": [
        "Listar os Modelos Disponíveis"
      ],
      "metadata": {
        "id": "Py8UnDbNFRFE"
      }
    },
    {
      "cell_type": "code",
      "source": [
        "for m in genai.list_models():\n",
        "  if 'generateContent' in m.supported_generation_methods:\n",
        "    print(m.name)"
      ],
      "metadata": {
        "colab": {
          "base_uri": "https://localhost:8080/",
          "height": 138
        },
        "id": "EBaRXSazE5lP",
        "outputId": "2abd5c64-6338-4bce-af44-ad3e6f16432f"
      },
      "execution_count": 6,
      "outputs": [
        {
          "output_type": "stream",
          "name": "stdout",
          "text": [
            "models/gemini-1.0-pro\n",
            "models/gemini-1.0-pro-001\n",
            "models/gemini-1.0-pro-latest\n",
            "models/gemini-1.0-pro-vision-latest\n",
            "models/gemini-1.5-pro-latest\n",
            "models/gemini-pro\n",
            "models/gemini-pro-vision\n"
          ]
        }
      ]
    },
    {
      "cell_type": "markdown",
      "source": [
        "Inicializando o Modelo"
      ],
      "metadata": {
        "id": "0yPHMo0AJUcV"
      }
    },
    {
      "cell_type": "code",
      "source": [
        "model =genai.GenerativeModel(model_name=\"gemini-1.0-pro\")"
      ],
      "metadata": {
        "id": "m_Gj-CHGJYtu"
      },
      "execution_count": 7,
      "outputs": []
    },
    {
      "cell_type": "code",
      "source": [
        "response = model.generate_content(\"Vamos aprender conteúdo sobre IA.\")\n",
        "print(response.text)"
      ],
      "metadata": {
        "colab": {
          "base_uri": "https://localhost:8080/",
          "height": 818
        },
        "id": "Wf0eKo_lKeDz",
        "outputId": "dfe047b5-5ef5-47e7-f0cc-3be4d3c76f6b"
      },
      "execution_count": 8,
      "outputs": [
        {
          "output_type": "stream",
          "name": "stdout",
          "text": [
            "**Introdução à Inteligência Artificial (IA)**\n",
            "\n",
            "* Definição: A capacidade das máquinas em executar tarefas que normalmente requerem inteligência humana, como aprendizado, solução de problemas e tomada de decisão.\n",
            "\n",
            "**Tipos de IA**\n",
            "\n",
            "* **IA Fraca (Nível Estreito):** Projetada para tarefas específicas, como reconhecimento de imagens ou tradução de idiomas.\n",
            "* **IA Forte (Nível Geral):** Capaz de realizar uma ampla gama de tarefas cognitivas, como pensar, planejar e aprender como um ser humano.\n",
            "* **Superinteligência (Nível Artificial):** Uma IA que supera a inteligência humana em todos os aspectos.\n",
            "\n",
            "**Técnicas de IA**\n",
            "\n",
            "* **Aprendizado de Máquina (ML):** Permite que os computadores aprendam sem serem explicitamente programados.\n",
            "* **Aprendizado Profundo (DL):** Um subcampo do ML que usa redes neurais para processar dados complexos.\n",
            "* **Processamento de Linguagem Natural (PNL):** Permite que os computadores entendam e gerem linguagem humana.\n",
            "* **Visão Computacional:** Capacita os computadores a analisar e entender imagens e vídeos.\n",
            "\n",
            "**Aplicações da IA**\n",
            "\n",
            "* Automação de tarefas\n",
            "* Atendimento ao cliente\n",
            "* Diagnóstico médico\n",
            "* Reconhecimento de padrões\n",
            "* Sistemas de recomendação\n",
            "\n",
            "**Benefícios da IA**\n",
            "\n",
            "* Maior eficiência\n",
            "* Redução de custos\n",
            "* Novos insights e descobertas\n",
            "* Experiências personalizadas\n",
            "\n",
            "**Desafios da IA**\n",
            "\n",
            "* Preocupações éticas (por exemplo, viés, perda de empregos)\n",
            "* Necessidade de grandes conjuntos de dados\n",
            "* Limitações computacionais\n",
            "* Regulamentação e padronização\n",
            "\n",
            "**Futuro da IA**\n",
            "\n",
            "* Integração contínua em vários setores\n",
            "* Avanços em aprendizado de máquina e aprendizado profundo\n",
            "* Desenvolvimento de novas aplicações e casos de uso\n",
            "* Implicações sociais e econômicas contínuas\n"
          ]
        }
      ]
    },
    {
      "cell_type": "code",
      "source": [
        "chat=model.start_chat(history=[])"
      ],
      "metadata": {
        "id": "_Z6bMrFBK7Nv"
      },
      "execution_count": 9,
      "outputs": []
    },
    {
      "cell_type": "code",
      "source": [
        "prompt=input(\"Esperando um prompt: \")\n",
        "while prompt != \"fim\":\n",
        "  response = chat.send_message(prompt)\n",
        "  print(\"Resposta: \", response.text, \"\\n\")\n",
        "  prompt = input(\"Esperando prompt: \")"
      ],
      "metadata": {
        "colab": {
          "base_uri": "https://localhost:8080/"
        },
        "id": "lSA0tPKELk4G",
        "outputId": "e0a481dd-3423-4553-facd-439550268295"
      },
      "execution_count": 12,
      "outputs": [
        {
          "name": "stdout",
          "output_type": "stream",
          "text": [
            "Esperando um prompt: fim\n"
          ]
        }
      ]
    }
  ]
}